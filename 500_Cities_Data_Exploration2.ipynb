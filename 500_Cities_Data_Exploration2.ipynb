{
 "cells": [
  {
   "cell_type": "markdown",
   "metadata": {},
   "source": [
    "Markdowns??"
   ]
  },
  {
   "cell_type": "code",
   "execution_count": 5,
   "metadata": {
    "collapsed": false
   },
   "outputs": [
    {
     "name": "stdout",
     "output_type": "stream",
     "text": [
      "Health Outcomes and Behaviors dataset has 521703 samples with 13 features each.\n"
     ]
    },
    {
     "data": {
      "text/html": [
       "<div>\n",
       "<table border=\"1\" class=\"dataframe\">\n",
       "  <thead>\n",
       "    <tr style=\"text-align: right;\">\n",
       "      <th></th>\n",
       "      <th>Year</th>\n",
       "      <th>StateDesc</th>\n",
       "      <th>CityName</th>\n",
       "      <th>Measure</th>\n",
       "      <th>Data_Value_Type</th>\n",
       "      <th>Data_Value</th>\n",
       "      <th>GeoLocation</th>\n",
       "      <th>Short_Question_Text</th>\n",
       "    </tr>\n",
       "  </thead>\n",
       "  <tbody>\n",
       "    <tr>\n",
       "      <th>26</th>\n",
       "      <td>2014</td>\n",
       "      <td>Alabama</td>\n",
       "      <td>Birmingham</td>\n",
       "      <td>Arthritis among adults aged &gt;=18 Years</td>\n",
       "      <td>Age-adjusted prevalence</td>\n",
       "      <td>32.6</td>\n",
       "      <td>(33.5275663773, -86.7988174678)</td>\n",
       "      <td>Arthritis</td>\n",
       "    </tr>\n",
       "    <tr>\n",
       "      <th>126</th>\n",
       "      <td>2013</td>\n",
       "      <td>Alabama</td>\n",
       "      <td>Birmingham</td>\n",
       "      <td>High blood pressure among adults aged &gt;=18 Years</td>\n",
       "      <td>Age-adjusted prevalence</td>\n",
       "      <td>45.9</td>\n",
       "      <td>(33.5275663773, -86.7988174678)</td>\n",
       "      <td>High Blood Pressure</td>\n",
       "    </tr>\n",
       "    <tr>\n",
       "      <th>227</th>\n",
       "      <td>2014</td>\n",
       "      <td>Alabama</td>\n",
       "      <td>Birmingham</td>\n",
       "      <td>Cancer (excluding skin cancer) among adults ag...</td>\n",
       "      <td>Age-adjusted prevalence</td>\n",
       "      <td>6.1</td>\n",
       "      <td>(33.5275663773, -86.7988174678)</td>\n",
       "      <td>Cancer (except skin)</td>\n",
       "    </tr>\n",
       "    <tr>\n",
       "      <th>326</th>\n",
       "      <td>2014</td>\n",
       "      <td>Alabama</td>\n",
       "      <td>Birmingham</td>\n",
       "      <td>Current asthma among adults aged &gt;=18 Years</td>\n",
       "      <td>Age-adjusted prevalence</td>\n",
       "      <td>11.4</td>\n",
       "      <td>(33.5275663773, -86.7988174678)</td>\n",
       "      <td>Current Asthma</td>\n",
       "    </tr>\n",
       "    <tr>\n",
       "      <th>426</th>\n",
       "      <td>2014</td>\n",
       "      <td>Alabama</td>\n",
       "      <td>Birmingham</td>\n",
       "      <td>Coronary heart disease among adults aged &gt;=18 ...</td>\n",
       "      <td>Age-adjusted prevalence</td>\n",
       "      <td>7.6</td>\n",
       "      <td>(33.5275663773, -86.7988174678)</td>\n",
       "      <td>Coronary Heart Disease</td>\n",
       "    </tr>\n",
       "  </tbody>\n",
       "</table>\n",
       "</div>"
      ],
      "text/plain": [
       "     Year StateDesc    CityName  \\\n",
       "26   2014   Alabama  Birmingham   \n",
       "126  2013   Alabama  Birmingham   \n",
       "227  2014   Alabama  Birmingham   \n",
       "326  2014   Alabama  Birmingham   \n",
       "426  2014   Alabama  Birmingham   \n",
       "\n",
       "                                               Measure  \\\n",
       "26              Arthritis among adults aged >=18 Years   \n",
       "126   High blood pressure among adults aged >=18 Years   \n",
       "227  Cancer (excluding skin cancer) among adults ag...   \n",
       "326        Current asthma among adults aged >=18 Years   \n",
       "426  Coronary heart disease among adults aged >=18 ...   \n",
       "\n",
       "             Data_Value_Type  Data_Value                      GeoLocation  \\\n",
       "26   Age-adjusted prevalence        32.6  (33.5275663773, -86.7988174678)   \n",
       "126  Age-adjusted prevalence        45.9  (33.5275663773, -86.7988174678)   \n",
       "227  Age-adjusted prevalence         6.1  (33.5275663773, -86.7988174678)   \n",
       "326  Age-adjusted prevalence        11.4  (33.5275663773, -86.7988174678)   \n",
       "426  Age-adjusted prevalence         7.6  (33.5275663773, -86.7988174678)   \n",
       "\n",
       "        Short_Question_Text  \n",
       "26                Arthritis  \n",
       "126     High Blood Pressure  \n",
       "227    Cancer (except skin)  \n",
       "326          Current Asthma  \n",
       "426  Coronary Heart Disease  "
      ]
     },
     "metadata": {},
     "output_type": "display_data"
    }
   ],
   "source": [
    "import numpy as np\n",
    "import pandas as pd\n",
    "from IPython.display import display # Allows the use of display() for DataFrames\n",
    "import matplotlib.pyplot as plt\n",
    "# Import supplementary visualizations code visuals.py\n",
    "import visuals as vs\n",
    "from sklearn.model_selection import train_test_split\n",
    "\n",
    "# Pretty display for notebooks\n",
    "%matplotlib inline\n",
    "\n",
    "# Load the wholesale customers dataset\n",
    "try:\n",
    "    data = pd.read_csv(\"500_Cities_Health_Outcomes_and_Unhealthy_Behaviors.csv\")\n",
    "    #data.drop(['Region', 'Channel'], axis = 1, inplace = True)\n",
    "    print \"Health Outcomes and Behaviors dataset has {} samples with {} features each.\".format(*data.shape)\n",
    "except:\n",
    "    print \"Dataset could not be loaded. Is the dataset missing?\"\n",
    "    \n",
    "\n",
    "data = data[pd.notnull(data.CityName)]\n",
    "\n",
    "data.drop(['Category', 'UniqueID', 'Low_Confidence_Limit', 'High_Confidence_Limit', 'MeasureId'], axis = 1, inplace = True)\n",
    "\n",
    "\n",
    "data = data[data.Data_Value_Type != 'Crude prevalence']\n",
    "display(data.head())"
   ]
  },
  {
   "cell_type": "code",
   "execution_count": 3,
   "metadata": {
    "collapsed": false,
    "scrolled": true
   },
   "outputs": [
    {
     "data": {
      "text/plain": [
       "Year                                                     2014\n",
       "StateDesc                                             Alabama\n",
       "CityName                                           Birmingham\n",
       "Measure                Arthritis among adults aged >=18 Years\n",
       "Data_Value_Type                       Age-adjusted prevalence\n",
       "Data_Value                                               32.6\n",
       "GeoLocation                   (33.5275663773, -86.7988174678)\n",
       "Short_Question_Text                                 Arthritis\n",
       "Name: 26, dtype: object"
      ]
     },
     "metadata": {},
     "output_type": "display_data"
    }
   ],
   "source": [
    "\n",
    "#display(data[pd.notnull(data.CityName)].head())\n",
    "\n",
    "display(data.iloc[0]) #['CityName'])\n"
   ]
  },
  {
   "cell_type": "code",
   "execution_count": 6,
   "metadata": {
    "collapsed": false
   },
   "outputs": [
    {
     "name": "stdout",
     "output_type": "stream",
     "text": [
      "['Arthritis' 'High Blood Pressure' 'Cancer (except skin)' 'Current Asthma'\n",
      " 'Coronary Heart Disease' 'COPD' 'Diabetes' 'High Cholesterol'\n",
      " 'Chronic Kidney Disease' 'Mental Health' 'Physical Health' 'Stroke'\n",
      " 'Teeth Loss' 'Binge Drinking' 'Current Smoking' 'Physical Activity'\n",
      " 'Obesity' 'Sleep']\n"
     ]
    }
   ],
   "source": [
    "disease_types = data3.Short_Question_Text.unique()\n",
    "print disease_types\n",
    "import sys"
   ]
  },
  {
   "cell_type": "code",
   "execution_count": 5,
   "metadata": {
    "collapsed": false,
    "scrolled": true
   },
   "outputs": [
    {
     "name": "stdout",
     "output_type": "stream",
     "text": [
      "Health Behaviors dataset has 376673 samples with 8 features each.\n"
     ]
    }
   ],
   "source": [
    "\n",
    "'''\n",
    "try:\n",
    "    behave_data = pd.read_csv(\"500_Cities_Unhealthy_Behaviors.csv\")\n",
    "    #data.drop(['Region', 'Channel'], axis = 1, inplace = True)\n",
    "    print \"Health Behaviors dataset has {} samples with {} features each.\".format(*data.shape)\n",
    "except:\n",
    "    print \"Dataset could not be loaded. Is the dataset missing?\", sys.exc_info()[0]\n",
    "\n",
    "behave_data.drop(['Category', 'UniqueID', 'Low_Confidence_Limit', 'High_Confidence_Limit', 'MeasureId'], axis = 1, inplace = True)\n",
    "behave_data = behave_data[pd.notnull(behave_data.CityName)]\n",
    "behave_data = behave_data[behave_data.Data_Value_Type != 'Crude prevalence']\n",
    "'''"
   ]
  },
  {
   "cell_type": "code",
   "execution_count": 26,
   "metadata": {
    "collapsed": false,
    "scrolled": true
   },
   "outputs": [
    {
     "data": {
      "text/plain": [
       "474"
      ]
     },
     "metadata": {},
     "output_type": "display_data"
    },
    {
     "data": {
      "text/plain": [
       "{'Arthritis': 32.600000000000001,\n",
       " 'Binge Drinking': 11.4,\n",
       " 'COPD': 9.4000000000000004,\n",
       " 'Cancer (except skin)': 6.0999999999999996,\n",
       " 'Chronic Kidney Disease': 3.2999999999999998,\n",
       " 'Coronary Heart Disease': 7.5999999999999996,\n",
       " 'Current Asthma': 11.4,\n",
       " 'Current Smoking': 22.0,\n",
       " 'Diabetes': 16.100000000000001,\n",
       " 'GeoLocation': '(33.5275663773, -86.7988174678)',\n",
       " 'High Blood Pressure': 45.899999999999999,\n",
       " 'High Cholesterol': 35.399999999999999,\n",
       " 'Mental Health': 17.0,\n",
       " 'Obesity': 39.0,\n",
       " 'Physical Activity': 31.699999999999999,\n",
       " 'Physical Health': 18.300000000000001,\n",
       " 'Sleep': 46.899999999999999,\n",
       " 'Stroke': 5.0,\n",
       " 'Teeth Loss': 25.899999999999999}"
      ]
     },
     "metadata": {},
     "output_type": "display_data"
    }
   ],
   "source": [
    "#display(behave_data.head())\n",
    "\n",
    "\n",
    "head =  data.head(10)\n",
    "\n",
    "#display(head)\n",
    "lil_head = head.iloc[0]\n",
    "data_dict = {lil_head.CityName:{lil_head.Short_Question_Text: 0}}\n",
    "\n",
    "for item in data.itertuples():\n",
    "    if item.CityName in data_dict:\n",
    "        data_dict[item.CityName][item.Short_Question_Text] = item.Data_Value\n",
    "    else:\n",
    "        data_dict[item.CityName] = {item.Short_Question_Text:[item.Data_Value]}\n",
    "    data_dict[item.CityName]['GeoLocation'] = item.GeoLocation \n",
    "'''\n",
    "test_dict = {lil_head.StateDesc:{lil_head.CityName:{lil_head.Short_Question_Text: 0}}}\n",
    "display(test_dict)      \n",
    "\n",
    "\n",
    "for item in head.itertuples():\n",
    "    #display(item.StateDesc, item.CityName, item.Short_Question_Text)\n",
    "    #display(item.Data_Value)\n",
    "    if item.StateDesc in test_dict:\n",
    "        if item.CityName in test_dict[item.StateDesc]:\n",
    "            test_dict[item.StateDesc][item.CityName][item.Short_Question_Text] = item.Data_Value\n",
    "            #print \"{}   {}   {}\".format(item.StateDesc, item.CityName, item.Short_Question_Text)\n",
    "        else:\n",
    "            test_dict[item.StateDesc][item.CityName] = {item.Short_Question_Text:item.Data_Value}\n",
    "            #print \"{}   {}\".format(item.StateDesc, item.CityName)\n",
    "    else:\n",
    "        test_dict[item.StateDesc] = {item.CityName:{item.Short_Question:item.Data_Value}}\n",
    "        print \"{}\".format(item.StateDesc)\n",
    "\n",
    "'''        \n",
    "display(len(data_dict))\n",
    "display(data_dict['Birmingham'])\n",
    "\n",
    "\n"
   ]
  },
  {
   "cell_type": "code",
   "execution_count": 37,
   "metadata": {
    "collapsed": false,
    "scrolled": true
   },
   "outputs": [
    {
     "data": {
      "text/html": [
       "<div>\n",
       "<table border=\"1\" class=\"dataframe\">\n",
       "  <thead>\n",
       "    <tr style=\"text-align: right;\">\n",
       "      <th></th>\n",
       "      <th>Physical Activity</th>\n",
       "      <th>Diabetes</th>\n",
       "    </tr>\n",
       "  </thead>\n",
       "  <tbody>\n",
       "    <tr>\n",
       "      <th>Abilene</th>\n",
       "      <td>27.7</td>\n",
       "      <td>10.9</td>\n",
       "    </tr>\n",
       "    <tr>\n",
       "      <th>Akron</th>\n",
       "      <td>31.0</td>\n",
       "      <td>13</td>\n",
       "    </tr>\n",
       "    <tr>\n",
       "      <th>Alameda</th>\n",
       "      <td>18.7</td>\n",
       "      <td>8.1</td>\n",
       "    </tr>\n",
       "    <tr>\n",
       "      <th>Albany</th>\n",
       "      <td>26.1</td>\n",
       "      <td>10.9</td>\n",
       "    </tr>\n",
       "    <tr>\n",
       "      <th>Albuquerque</th>\n",
       "      <td>20.4</td>\n",
       "      <td>9.3</td>\n",
       "    </tr>\n",
       "  </tbody>\n",
       "</table>\n",
       "</div>"
      ],
      "text/plain": [
       "             Physical Activity Diabetes\n",
       "Abilene                   27.7     10.9\n",
       "Akron                     31.0       13\n",
       "Alameda                   18.7      8.1\n",
       "Albany                    26.1     10.9\n",
       "Albuquerque               20.4      9.3"
      ]
     },
     "metadata": {},
     "output_type": "display_data"
    }
   ],
   "source": [
    "test_df = pd.DataFrame.from_dict(data_dict, 'index')\n",
    "#display(test_df.head(10))\n",
    "header = test_df.head(10)\n",
    "cols = list(header.columns)\n",
    "display(test_df[['Physical Activity', 'Diabetes']].head())"
   ]
  },
  {
   "cell_type": "code",
   "execution_count": null,
   "metadata": {
    "collapsed": true
   },
   "outputs": [],
   "source": []
  }
 ],
 "metadata": {
  "kernelspec": {
   "display_name": "Python 2",
   "language": "python",
   "name": "python2"
  },
  "language_info": {
   "codemirror_mode": {
    "name": "ipython",
    "version": 2
   },
   "file_extension": ".py",
   "mimetype": "text/x-python",
   "name": "python",
   "nbconvert_exporter": "python",
   "pygments_lexer": "ipython2",
   "version": "2.7.12"
  }
 },
 "nbformat": 4,
 "nbformat_minor": 2
}
