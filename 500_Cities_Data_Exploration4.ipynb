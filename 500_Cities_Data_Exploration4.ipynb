{
 "cells": [
  {
   "cell_type": "markdown",
   "metadata": {},
   "source": [
    "Markdowns??"
   ]
  },
  {
   "cell_type": "code",
   "execution_count": 21,
   "metadata": {
    "collapsed": false
   },
   "outputs": [
    {
     "name": "stdout",
     "output_type": "stream",
     "text": [
      "Health Outcomes dataset has 6500 samples with 8 features each.\n",
      "Unhealthy Behaviors dataset has 2500 samples with 8 features each.\n"
     ]
    },
    {
     "data": {
      "text/html": [
       "<div>\n",
       "<table border=\"1\" class=\"dataframe\">\n",
       "  <thead>\n",
       "    <tr style=\"text-align: right;\">\n",
       "      <th></th>\n",
       "      <th>Year</th>\n",
       "      <th>StateDesc</th>\n",
       "      <th>CityName</th>\n",
       "      <th>Measure</th>\n",
       "      <th>Data_Value_Type</th>\n",
       "      <th>Data_Value</th>\n",
       "      <th>GeoLocation</th>\n",
       "      <th>Short_Question_Text</th>\n",
       "    </tr>\n",
       "  </thead>\n",
       "  <tbody>\n",
       "    <tr>\n",
       "      <th>26</th>\n",
       "      <td>2014</td>\n",
       "      <td>Alabama</td>\n",
       "      <td>Birmingham</td>\n",
       "      <td>Arthritis among adults aged &gt;=18 Years</td>\n",
       "      <td>Age-adjusted prevalence</td>\n",
       "      <td>32.6</td>\n",
       "      <td>(33.5275663773, -86.7988174678)</td>\n",
       "      <td>Arthritis</td>\n",
       "    </tr>\n",
       "    <tr>\n",
       "      <th>126</th>\n",
       "      <td>2013</td>\n",
       "      <td>Alabama</td>\n",
       "      <td>Birmingham</td>\n",
       "      <td>High blood pressure among adults aged &gt;=18 Years</td>\n",
       "      <td>Age-adjusted prevalence</td>\n",
       "      <td>45.9</td>\n",
       "      <td>(33.5275663773, -86.7988174678)</td>\n",
       "      <td>High Blood Pressure</td>\n",
       "    </tr>\n",
       "    <tr>\n",
       "      <th>227</th>\n",
       "      <td>2014</td>\n",
       "      <td>Alabama</td>\n",
       "      <td>Birmingham</td>\n",
       "      <td>Cancer (excluding skin cancer) among adults ag...</td>\n",
       "      <td>Age-adjusted prevalence</td>\n",
       "      <td>6.1</td>\n",
       "      <td>(33.5275663773, -86.7988174678)</td>\n",
       "      <td>Cancer (except skin)</td>\n",
       "    </tr>\n",
       "    <tr>\n",
       "      <th>326</th>\n",
       "      <td>2014</td>\n",
       "      <td>Alabama</td>\n",
       "      <td>Birmingham</td>\n",
       "      <td>Current asthma among adults aged &gt;=18 Years</td>\n",
       "      <td>Age-adjusted prevalence</td>\n",
       "      <td>11.4</td>\n",
       "      <td>(33.5275663773, -86.7988174678)</td>\n",
       "      <td>Current Asthma</td>\n",
       "    </tr>\n",
       "    <tr>\n",
       "      <th>426</th>\n",
       "      <td>2014</td>\n",
       "      <td>Alabama</td>\n",
       "      <td>Birmingham</td>\n",
       "      <td>Coronary heart disease among adults aged &gt;=18 ...</td>\n",
       "      <td>Age-adjusted prevalence</td>\n",
       "      <td>7.6</td>\n",
       "      <td>(33.5275663773, -86.7988174678)</td>\n",
       "      <td>Coronary Heart Disease</td>\n",
       "    </tr>\n",
       "  </tbody>\n",
       "</table>\n",
       "</div>"
      ],
      "text/plain": [
       "     Year StateDesc    CityName  \\\n",
       "26   2014   Alabama  Birmingham   \n",
       "126  2013   Alabama  Birmingham   \n",
       "227  2014   Alabama  Birmingham   \n",
       "326  2014   Alabama  Birmingham   \n",
       "426  2014   Alabama  Birmingham   \n",
       "\n",
       "                                               Measure  \\\n",
       "26              Arthritis among adults aged >=18 Years   \n",
       "126   High blood pressure among adults aged >=18 Years   \n",
       "227  Cancer (excluding skin cancer) among adults ag...   \n",
       "326        Current asthma among adults aged >=18 Years   \n",
       "426  Coronary heart disease among adults aged >=18 ...   \n",
       "\n",
       "             Data_Value_Type  Data_Value                      GeoLocation  \\\n",
       "26   Age-adjusted prevalence        32.6  (33.5275663773, -86.7988174678)   \n",
       "126  Age-adjusted prevalence        45.9  (33.5275663773, -86.7988174678)   \n",
       "227  Age-adjusted prevalence         6.1  (33.5275663773, -86.7988174678)   \n",
       "326  Age-adjusted prevalence        11.4  (33.5275663773, -86.7988174678)   \n",
       "426  Age-adjusted prevalence         7.6  (33.5275663773, -86.7988174678)   \n",
       "\n",
       "        Short_Question_Text  \n",
       "26                Arthritis  \n",
       "126     High Blood Pressure  \n",
       "227    Cancer (except skin)  \n",
       "326          Current Asthma  \n",
       "426  Coronary Heart Disease  "
      ]
     },
     "metadata": {},
     "output_type": "display_data"
    },
    {
     "data": {
      "text/html": [
       "<div>\n",
       "<table border=\"1\" class=\"dataframe\">\n",
       "  <thead>\n",
       "    <tr style=\"text-align: right;\">\n",
       "      <th></th>\n",
       "      <th>Year</th>\n",
       "      <th>StateDesc</th>\n",
       "      <th>CityName</th>\n",
       "      <th>Measure</th>\n",
       "      <th>Data_Value_Type</th>\n",
       "      <th>Data_Value</th>\n",
       "      <th>GeoLocation</th>\n",
       "      <th>Short_Question_Text</th>\n",
       "    </tr>\n",
       "  </thead>\n",
       "  <tbody>\n",
       "    <tr>\n",
       "      <th>10</th>\n",
       "      <td>2014</td>\n",
       "      <td>Alabama</td>\n",
       "      <td>Birmingham</td>\n",
       "      <td>Binge drinking among adults aged &gt;=18 Years</td>\n",
       "      <td>Age-adjusted prevalence</td>\n",
       "      <td>11.4</td>\n",
       "      <td>(33.5275663773, -86.7988174678)</td>\n",
       "      <td>Binge Drinking</td>\n",
       "    </tr>\n",
       "    <tr>\n",
       "      <th>121</th>\n",
       "      <td>2014</td>\n",
       "      <td>Alabama</td>\n",
       "      <td>Birmingham</td>\n",
       "      <td>Current smoking among adults aged &gt;=18 Years</td>\n",
       "      <td>Age-adjusted prevalence</td>\n",
       "      <td>22.0</td>\n",
       "      <td>(33.5275663773, -86.7988174678)</td>\n",
       "      <td>Current Smoking</td>\n",
       "    </tr>\n",
       "    <tr>\n",
       "      <th>217</th>\n",
       "      <td>2014</td>\n",
       "      <td>Alabama</td>\n",
       "      <td>Birmingham</td>\n",
       "      <td>No leisure-time physical activity among adults...</td>\n",
       "      <td>Age-adjusted prevalence</td>\n",
       "      <td>31.7</td>\n",
       "      <td>(33.5275663773, -86.7988174678)</td>\n",
       "      <td>Physical Activity</td>\n",
       "    </tr>\n",
       "    <tr>\n",
       "      <th>317</th>\n",
       "      <td>2014</td>\n",
       "      <td>Alabama</td>\n",
       "      <td>Birmingham</td>\n",
       "      <td>Obesity among adults aged &gt;=18 Years</td>\n",
       "      <td>Age-adjusted prevalence</td>\n",
       "      <td>39.0</td>\n",
       "      <td>(33.5275663773, -86.7988174678)</td>\n",
       "      <td>Obesity</td>\n",
       "    </tr>\n",
       "    <tr>\n",
       "      <th>410</th>\n",
       "      <td>2014</td>\n",
       "      <td>Alabama</td>\n",
       "      <td>Birmingham</td>\n",
       "      <td>Sleeping less than 7 hours among adults aged &gt;...</td>\n",
       "      <td>Age-adjusted prevalence</td>\n",
       "      <td>46.9</td>\n",
       "      <td>(33.5275663773, -86.7988174678)</td>\n",
       "      <td>Sleep</td>\n",
       "    </tr>\n",
       "  </tbody>\n",
       "</table>\n",
       "</div>"
      ],
      "text/plain": [
       "     Year StateDesc    CityName  \\\n",
       "10   2014   Alabama  Birmingham   \n",
       "121  2014   Alabama  Birmingham   \n",
       "217  2014   Alabama  Birmingham   \n",
       "317  2014   Alabama  Birmingham   \n",
       "410  2014   Alabama  Birmingham   \n",
       "\n",
       "                                               Measure  \\\n",
       "10         Binge drinking among adults aged >=18 Years   \n",
       "121       Current smoking among adults aged >=18 Years   \n",
       "217  No leisure-time physical activity among adults...   \n",
       "317               Obesity among adults aged >=18 Years   \n",
       "410  Sleeping less than 7 hours among adults aged >...   \n",
       "\n",
       "             Data_Value_Type  Data_Value                      GeoLocation  \\\n",
       "10   Age-adjusted prevalence        11.4  (33.5275663773, -86.7988174678)   \n",
       "121  Age-adjusted prevalence        22.0  (33.5275663773, -86.7988174678)   \n",
       "217  Age-adjusted prevalence        31.7  (33.5275663773, -86.7988174678)   \n",
       "317  Age-adjusted prevalence        39.0  (33.5275663773, -86.7988174678)   \n",
       "410  Age-adjusted prevalence        46.9  (33.5275663773, -86.7988174678)   \n",
       "\n",
       "    Short_Question_Text  \n",
       "10       Binge Drinking  \n",
       "121     Current Smoking  \n",
       "217   Physical Activity  \n",
       "317             Obesity  \n",
       "410               Sleep  "
      ]
     },
     "metadata": {},
     "output_type": "display_data"
    }
   ],
   "source": [
    "import numpy as np\n",
    "import pandas as pd\n",
    "from IPython.display import display # Allows the use of display() for DataFrames\n",
    "import matplotlib.pyplot as plt\n",
    "# Import supplementary visualizations code visuals.py\n",
    "import visuals as vs\n",
    "from sklearn.model_selection import train_test_split\n",
    "\n",
    "# Pretty display for notebooks\n",
    "%matplotlib inline\n",
    "\n",
    "# Load the wholesale customers dataset\n",
    "try:\n",
    "    outcomes = pd.read_csv(\"500_Cities_Health_Outcomes_raw.csv\", index_col = 'Unnamed: 0')\n",
    "    behaviors = pd.read_csv(\"500_Cities_Health_Behaviors_raw.csv\", index_col = 'Unnamed: 0')\n",
    "    #data.drop(['Region', 'Channel'], axis = 1, inplace = True)\n",
    "    print \"Health Outcomes dataset has {} samples with {} features each.\".format(*outcomes.shape)\n",
    "    print \"Unhealthy Behaviors dataset has {} samples with {} features each.\".format(*behaviors.shape)\n",
    "except:\n",
    "    print \"Dataset could not be loaded. Is the dataset missing?\"\n",
    "    \n",
    "\n",
    "'''\n",
    "    outcomes = outcomes[pd.notnull(outcomes.CityName)]\n",
    "behaviors = behaviors[pd.notnull(behaviors.CityName)]\n",
    "\n",
    "outcomes.drop(['Category', 'UniqueID', 'Low_Confidence_Limit', 'High_Confidence_Limit', 'MeasureId'], axis = 1, inplace = True)\n",
    "behaviors.drop(['Category', 'UniqueID', 'Low_Confidence_Limit', 'High_Confidence_Limit', 'MeasureId'], axis = 1, inplace = True)\n",
    "\n",
    "\n",
    "\n",
    "outcomes = outcomes[outcomes.Data_Value_Type != 'Crude prevalence']\n",
    "behaviors = behaviors[behaviors.Data_Value_Type != 'Crude prevalence']\n",
    "''' \n",
    "\n",
    "display(outcomes.head())\n",
    "display(behaviors.head())"
   ]
  },
  {
   "cell_type": "code",
   "execution_count": 23,
   "metadata": {
    "collapsed": false,
    "scrolled": true
   },
   "outputs": [
    {
     "data": {
      "text/plain": [
       "dtype('float64')"
      ]
     },
     "execution_count": 23,
     "metadata": {},
     "output_type": "execute_result"
    }
   ],
   "source": [
    "\n",
    "outcomes['Data_Value'].dtypes\n",
    "#display(outcomes.iloc[0]) #['CityName'])\n",
    "\n"
   ]
  },
  {
   "cell_type": "code",
   "execution_count": null,
   "metadata": {
    "collapsed": true
   },
   "outputs": [],
   "source": [
    "disease_types = outcomes.Short_Question_Text.unique()\n",
    "print disease_types\n",
    "import sys\n",
    "behavior_types = behaviors.Short_Question_Text.unique()\n",
    "print \"behavior types\"\n",
    "print behavior_types"
   ]
  },
  {
   "cell_type": "code",
   "execution_count": 39,
   "metadata": {
    "collapsed": false,
    "scrolled": true
   },
   "outputs": [
    {
     "data": {
      "text/plain": [
       "474"
      ]
     },
     "metadata": {},
     "output_type": "display_data"
    },
    {
     "data": {
      "text/plain": [
       "6.0999999999999996"
      ]
     },
     "metadata": {},
     "output_type": "display_data"
    },
    {
     "data": {
      "text/plain": [
       "{'Binge Drinking': 11.4,\n",
       " 'Current Smoking': 22.0,\n",
       " 'GeoLocation': '(33.5275663773, -86.7988174678)',\n",
       " 'Obesity': 39.0,\n",
       " 'Physical Activity': 31.699999999999999,\n",
       " 'Sleep': 46.899999999999999}"
      ]
     },
     "metadata": {},
     "output_type": "display_data"
    },
    {
     "data": {
      "text/plain": [
       "['GeoLocation',\n",
       " 'Current Smoking',\n",
       " 'Physical Activity',\n",
       " 'Binge Drinking',\n",
       " 'Sleep',\n",
       " 'Obesity']"
      ]
     },
     "metadata": {},
     "output_type": "display_data"
    }
   ],
   "source": [
    "#display(behave_data.head())\n",
    "\n",
    "\n",
    "outcomes_head =  outcomes.head(10)\n",
    "behaviors_head = behaviors.head(10)\n",
    "\n",
    "#display(head)\n",
    "outcome = outcomes_head.iloc[0]\n",
    "behavior = behaviors_head.iloc[0]\n",
    "\n",
    "outcomes_dict = {outcome.CityName:{outcome.Short_Question_Text: 0}}\n",
    "behaviors_dict = {behavior.CityName:{behavior.Short_Question_Text: 0}}\n",
    "\n",
    "for item in outcomes.itertuples():\n",
    "    if item.CityName in outcomes_dict:\n",
    "        outcomes_dict[item.CityName][item.Short_Question_Text] = item.Data_Value\n",
    "    else:\n",
    "        outcomes_dict[item.CityName] = {item.Short_Question_Text:item.Data_Value}\n",
    "    outcomes_dict[item.CityName]['GeoLocation'] = item.GeoLocation \n",
    "\n",
    "for item in behaviors.itertuples():\n",
    "    if item.CityName in behaviors_dict:\n",
    "        behaviors_dict[item.CityName][item.Short_Question_Text] = item.Data_Value\n",
    "    else:\n",
    "        behaviors_dict[item.CityName] = {item.Short_Question_Text:item.Data_Value}\n",
    "    behaviors_dict[item.CityName]['GeoLocation'] = item.GeoLocation\n",
    "    \n",
    "    \n",
    "    \n",
    "    \n",
    "'''\n",
    "test_dict = {lil_head.StateDesc:{lil_head.CityName:{lil_head.Short_Question_Text: 0}}}\n",
    "display(test_dict)      \n",
    "\n",
    "\n",
    "for item in head.itertuples():\n",
    "    #display(item.StateDesc, item.CityName, item.Short_Question_Text)\n",
    "    #display(item.Data_Value)\n",
    "    if item.StateDesc in test_dict:\n",
    "        if item.CityName in test_dict[item.StateDesc]:\n",
    "            test_dict[item.StateDesc][item.CityName][item.Short_Question_Text] = item.Data_Value\n",
    "            #print \"{}   {}   {}\".format(item.StateDesc, item.CityName, item.Short_Question_Text)\n",
    "        else:\n",
    "            test_dict[item.StateDesc][item.CityName] = {item.Short_Question_Text:item.Data_Value}\n",
    "            #print \"{}   {}\".format(item.StateDesc, item.CityName)\n",
    "    else:\n",
    "        test_dict[item.StateDesc] = {item.CityName:{item.Short_Question:item.Data_Value}}\n",
    "        print \"{}\".format(item.StateDesc)\n",
    "\n",
    "'''        \n",
    "display(len(outcomes_dict))\n",
    "display(outcomes_dict['Birmingham']['Cancer (except skin)'])\n",
    "\n",
    "display(behaviors_dict['Birmingham'])\n",
    "\n",
    "display(behaviors_dict['Birmingham'].keys())"
   ]
  },
  {
   "cell_type": "code",
   "execution_count": 43,
   "metadata": {
    "collapsed": false
   },
   "outputs": [
    {
     "data": {
      "text/plain": [
       "GeoLocation                object\n",
       "Chronic Kidney Disease    float64\n",
       "COPD                      float64\n",
       "Cancer (except skin)      float64\n",
       "Arthritis                 float64\n",
       "Mental Health             float64\n",
       "Teeth Loss                float64\n",
       "Stroke                    float64\n",
       "High Cholesterol          float64\n",
       "Current Asthma            float64\n",
       "Diabetes                  float64\n",
       "Physical Health           float64\n",
       "High Blood Pressure       float64\n",
       "Coronary Heart Disease    float64\n",
       "dtype: object"
      ]
     },
     "metadata": {},
     "output_type": "display_data"
    },
    {
     "data": {
      "text/plain": [
       "GeoLocation           object\n",
       "Current Smoking      float64\n",
       "Physical Activity    float64\n",
       "Binge Drinking       float64\n",
       "Sleep                float64\n",
       "Obesity              float64\n",
       "dtype: object"
      ]
     },
     "metadata": {},
     "output_type": "display_data"
    }
   ],
   "source": [
    "outcomes_df = pd.DataFrame.from_dict(outcomes_dict, 'index')\n",
    "behaviors_df = pd.DataFrame.from_dict(behaviors_dict, 'index')\n",
    "\n",
    "#display(outcomes_df.Arthritis.head())\n",
    "display(outcomes_df.dtypes)\n",
    "display(behaviors_df.dtypes)"
   ]
  },
  {
   "cell_type": "code",
   "execution_count": 44,
   "metadata": {
    "collapsed": true
   },
   "outputs": [],
   "source": [
    "outcomes_df.to_csv('500_Cities_Health_Outcomes.csv')"
   ]
  },
  {
   "cell_type": "code",
   "execution_count": 45,
   "metadata": {
    "collapsed": false,
    "scrolled": true
   },
   "outputs": [],
   "source": [
    "behaviors_df.to_csv('500_Cities_Health_Behaviors.csv')"
   ]
  },
  {
   "cell_type": "code",
   "execution_count": 46,
   "metadata": {
    "collapsed": false
   },
   "outputs": [
    {
     "data": {
      "text/html": [
       "<div>\n",
       "<table border=\"1\" class=\"dataframe\">\n",
       "  <thead>\n",
       "    <tr style=\"text-align: right;\">\n",
       "      <th></th>\n",
       "      <th>0</th>\n",
       "      <th>Binge Drinking</th>\n",
       "      <th>Current Smoking</th>\n",
       "      <th>GeoLocation</th>\n",
       "      <th>Obesity</th>\n",
       "      <th>Physical Activity</th>\n",
       "      <th>Sleep</th>\n",
       "    </tr>\n",
       "  </thead>\n",
       "  <tbody>\n",
       "    <tr>\n",
       "      <th>Abilene</th>\n",
       "      <td>6.7</td>\n",
       "      <td>NaN</td>\n",
       "      <td>NaN</td>\n",
       "      <td>NaN</td>\n",
       "      <td>NaN</td>\n",
       "      <td>NaN</td>\n",
       "      <td>NaN</td>\n",
       "    </tr>\n",
       "    <tr>\n",
       "      <th>Akron</th>\n",
       "      <td>9.4</td>\n",
       "      <td>NaN</td>\n",
       "      <td>NaN</td>\n",
       "      <td>NaN</td>\n",
       "      <td>NaN</td>\n",
       "      <td>NaN</td>\n",
       "      <td>NaN</td>\n",
       "    </tr>\n",
       "    <tr>\n",
       "      <th>Alameda</th>\n",
       "      <td>4.3</td>\n",
       "      <td>NaN</td>\n",
       "      <td>NaN</td>\n",
       "      <td>NaN</td>\n",
       "      <td>NaN</td>\n",
       "      <td>NaN</td>\n",
       "      <td>NaN</td>\n",
       "    </tr>\n",
       "    <tr>\n",
       "      <th>Albany</th>\n",
       "      <td>7.1</td>\n",
       "      <td>NaN</td>\n",
       "      <td>NaN</td>\n",
       "      <td>NaN</td>\n",
       "      <td>NaN</td>\n",
       "      <td>NaN</td>\n",
       "      <td>NaN</td>\n",
       "    </tr>\n",
       "    <tr>\n",
       "      <th>Albuquerque</th>\n",
       "      <td>5.4</td>\n",
       "      <td>NaN</td>\n",
       "      <td>NaN</td>\n",
       "      <td>NaN</td>\n",
       "      <td>NaN</td>\n",
       "      <td>NaN</td>\n",
       "      <td>NaN</td>\n",
       "    </tr>\n",
       "  </tbody>\n",
       "</table>\n",
       "</div>"
      ],
      "text/plain": [
       "               0  Binge Drinking  Current Smoking GeoLocation  Obesity  \\\n",
       "Abilene      6.7             NaN              NaN         NaN      NaN   \n",
       "Akron        9.4             NaN              NaN         NaN      NaN   \n",
       "Alameda      4.3             NaN              NaN         NaN      NaN   \n",
       "Albany       7.1             NaN              NaN         NaN      NaN   \n",
       "Albuquerque  5.4             NaN              NaN         NaN      NaN   \n",
       "\n",
       "             Physical Activity  Sleep  \n",
       "Abilene                    NaN    NaN  \n",
       "Akron                      NaN    NaN  \n",
       "Alameda                    NaN    NaN  \n",
       "Albany                     NaN    NaN  \n",
       "Albuquerque                NaN    NaN  "
      ]
     },
     "metadata": {},
     "output_type": "display_data"
    }
   ],
   "source": [
    "frames = [outcomes_df.COPD, behaviors_df]\n",
    "datacorr_df = pd.concat(frames)\n",
    "display(datacorr_df.head())"
   ]
  },
  {
   "cell_type": "code",
   "execution_count": 2,
   "metadata": {
    "collapsed": false
   },
   "outputs": [
    {
     "ename": "NameError",
     "evalue": "name 'outcomes_df' is not defined",
     "output_type": "error",
     "traceback": [
      "\u001b[0;31m---------------------------------------------------------------------------\u001b[0m",
      "\u001b[0;31mNameError\u001b[0m                                 Traceback (most recent call last)",
      "\u001b[0;32m<ipython-input-2-3cea459485a9>\u001b[0m in \u001b[0;36m<module>\u001b[0;34m()\u001b[0m\n\u001b[0;32m----> 1\u001b[0;31m \u001b[0mframes\u001b[0m \u001b[0;34m=\u001b[0m \u001b[0;34m[\u001b[0m\u001b[0moutcomes_df\u001b[0m\u001b[0;34m.\u001b[0m\u001b[0mCOPD\u001b[0m\u001b[0;34m,\u001b[0m \u001b[0mbehaviors_df\u001b[0m\u001b[0;34m]\u001b[0m\u001b[0;34m\u001b[0m\u001b[0m\n\u001b[0m\u001b[1;32m      2\u001b[0m \u001b[0mdatacorr_df\u001b[0m \u001b[0;34m=\u001b[0m \u001b[0mpd\u001b[0m\u001b[0;34m.\u001b[0m\u001b[0mconcat\u001b[0m\u001b[0;34m(\u001b[0m\u001b[0mframes\u001b[0m\u001b[0;34m)\u001b[0m\u001b[0;34m\u001b[0m\u001b[0m\n\u001b[1;32m      3\u001b[0m \u001b[0mdisplay\u001b[0m\u001b[0;34m(\u001b[0m\u001b[0mdatacorr_df\u001b[0m\u001b[0;34m.\u001b[0m\u001b[0mhead\u001b[0m\u001b[0;34m(\u001b[0m\u001b[0;34m)\u001b[0m\u001b[0;34m)\u001b[0m\u001b[0;34m\u001b[0m\u001b[0m\n",
      "\u001b[0;31mNameError\u001b[0m: name 'outcomes_df' is not defined"
     ]
    }
   ],
   "source": []
  },
  {
   "cell_type": "code",
   "execution_count": 16,
   "metadata": {
    "collapsed": true
   },
   "outputs": [],
   "source": []
  },
  {
   "cell_type": "code",
   "execution_count": 17,
   "metadata": {
    "collapsed": true
   },
   "outputs": [],
   "source": []
  },
  {
   "cell_type": "code",
   "execution_count": 18,
   "metadata": {
    "collapsed": true
   },
   "outputs": [],
   "source": []
  },
  {
   "cell_type": "code",
   "execution_count": null,
   "metadata": {
    "collapsed": true
   },
   "outputs": [],
   "source": []
  }
 ],
 "metadata": {
  "kernelspec": {
   "display_name": "Python 2",
   "language": "python",
   "name": "python2"
  }
 },
 "nbformat": 4,
 "nbformat_minor": 2
}
