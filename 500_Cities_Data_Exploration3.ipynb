{
 "cells": [
  {
   "cell_type": "markdown",
   "metadata": {},
   "source": [
    "Markdowns??"
   ]
  },
  {
   "cell_type": "code",
   "execution_count": 1,
   "metadata": {
    "collapsed": false
   },
   "outputs": [
    {
     "name": "stdout",
     "output_type": "stream",
     "text": [
      "Health Outcomes dataset has 376673 samples with 13 features each.\n",
      "Unhealthy Behaviors dataset has 145030 samples with 13 features each.\n"
     ]
    },
    {
     "data": {
      "text/html": [
       "<div>\n",
       "<table border=\"1\" class=\"dataframe\">\n",
       "  <thead>\n",
       "    <tr style=\"text-align: right;\">\n",
       "      <th></th>\n",
       "      <th>Year</th>\n",
       "      <th>StateDesc</th>\n",
       "      <th>CityName</th>\n",
       "      <th>Measure</th>\n",
       "      <th>Data_Value_Type</th>\n",
       "      <th>Data_Value</th>\n",
       "      <th>GeoLocation</th>\n",
       "      <th>Short_Question_Text</th>\n",
       "    </tr>\n",
       "  </thead>\n",
       "  <tbody>\n",
       "    <tr>\n",
       "      <th>26</th>\n",
       "      <td>2014</td>\n",
       "      <td>Alabama</td>\n",
       "      <td>Birmingham</td>\n",
       "      <td>Arthritis among adults aged &gt;=18 Years</td>\n",
       "      <td>Age-adjusted prevalence</td>\n",
       "      <td>32.6</td>\n",
       "      <td>(33.5275663773, -86.7988174678)</td>\n",
       "      <td>Arthritis</td>\n",
       "    </tr>\n",
       "    <tr>\n",
       "      <th>126</th>\n",
       "      <td>2013</td>\n",
       "      <td>Alabama</td>\n",
       "      <td>Birmingham</td>\n",
       "      <td>High blood pressure among adults aged &gt;=18 Years</td>\n",
       "      <td>Age-adjusted prevalence</td>\n",
       "      <td>45.9</td>\n",
       "      <td>(33.5275663773, -86.7988174678)</td>\n",
       "      <td>High Blood Pressure</td>\n",
       "    </tr>\n",
       "    <tr>\n",
       "      <th>227</th>\n",
       "      <td>2014</td>\n",
       "      <td>Alabama</td>\n",
       "      <td>Birmingham</td>\n",
       "      <td>Cancer (excluding skin cancer) among adults ag...</td>\n",
       "      <td>Age-adjusted prevalence</td>\n",
       "      <td>6.1</td>\n",
       "      <td>(33.5275663773, -86.7988174678)</td>\n",
       "      <td>Cancer (except skin)</td>\n",
       "    </tr>\n",
       "    <tr>\n",
       "      <th>326</th>\n",
       "      <td>2014</td>\n",
       "      <td>Alabama</td>\n",
       "      <td>Birmingham</td>\n",
       "      <td>Current asthma among adults aged &gt;=18 Years</td>\n",
       "      <td>Age-adjusted prevalence</td>\n",
       "      <td>11.4</td>\n",
       "      <td>(33.5275663773, -86.7988174678)</td>\n",
       "      <td>Current Asthma</td>\n",
       "    </tr>\n",
       "    <tr>\n",
       "      <th>426</th>\n",
       "      <td>2014</td>\n",
       "      <td>Alabama</td>\n",
       "      <td>Birmingham</td>\n",
       "      <td>Coronary heart disease among adults aged &gt;=18 ...</td>\n",
       "      <td>Age-adjusted prevalence</td>\n",
       "      <td>7.6</td>\n",
       "      <td>(33.5275663773, -86.7988174678)</td>\n",
       "      <td>Coronary Heart Disease</td>\n",
       "    </tr>\n",
       "  </tbody>\n",
       "</table>\n",
       "</div>"
      ],
      "text/plain": [
       "     Year StateDesc    CityName  \\\n",
       "26   2014   Alabama  Birmingham   \n",
       "126  2013   Alabama  Birmingham   \n",
       "227  2014   Alabama  Birmingham   \n",
       "326  2014   Alabama  Birmingham   \n",
       "426  2014   Alabama  Birmingham   \n",
       "\n",
       "                                               Measure  \\\n",
       "26              Arthritis among adults aged >=18 Years   \n",
       "126   High blood pressure among adults aged >=18 Years   \n",
       "227  Cancer (excluding skin cancer) among adults ag...   \n",
       "326        Current asthma among adults aged >=18 Years   \n",
       "426  Coronary heart disease among adults aged >=18 ...   \n",
       "\n",
       "             Data_Value_Type  Data_Value                      GeoLocation  \\\n",
       "26   Age-adjusted prevalence        32.6  (33.5275663773, -86.7988174678)   \n",
       "126  Age-adjusted prevalence        45.9  (33.5275663773, -86.7988174678)   \n",
       "227  Age-adjusted prevalence         6.1  (33.5275663773, -86.7988174678)   \n",
       "326  Age-adjusted prevalence        11.4  (33.5275663773, -86.7988174678)   \n",
       "426  Age-adjusted prevalence         7.6  (33.5275663773, -86.7988174678)   \n",
       "\n",
       "        Short_Question_Text  \n",
       "26                Arthritis  \n",
       "126     High Blood Pressure  \n",
       "227    Cancer (except skin)  \n",
       "326          Current Asthma  \n",
       "426  Coronary Heart Disease  "
      ]
     },
     "metadata": {},
     "output_type": "display_data"
    }
   ],
   "source": [
    "import numpy as np\n",
    "import pandas as pd\n",
    "from IPython.display import display # Allows the use of display() for DataFrames\n",
    "import matplotlib.pyplot as plt\n",
    "# Import supplementary visualizations code visuals.py\n",
    "import visuals as vs\n",
    "from sklearn.model_selection import train_test_split\n",
    "\n",
    "# Pretty display for notebooks\n",
    "%matplotlib inline\n",
    "\n",
    "# Load the wholesale customers dataset\n",
    "try:\n",
    "    outcomes = pd.read_csv(\"500_Cities_Health_Outcomes.csv\")\n",
    "    behaviors = pd.read_csv(\"500_Cities_Unhealthy_Behaviors.csv\")\n",
    "    #data.drop(['Region', 'Channel'], axis = 1, inplace = True)\n",
    "    print \"Health Outcomes dataset has {} samples with {} features each.\".format(*outcomes.shape)\n",
    "    print \"Unhealthy Behaviors dataset has {} samples with {} features each.\".format(*behaviors.shape)\n",
    "except:\n",
    "    print \"Dataset could not be loaded. Is the dataset missing?\"\n",
    "    \n",
    "\n",
    "outcomes = outcomes[pd.notnull(outcomes.CityName)]\n",
    "behaviors = behaviors[pd.notnull(behaviors.CityName)]\n",
    "\n",
    "outcomes.drop(['Category', 'UniqueID', 'Low_Confidence_Limit', 'High_Confidence_Limit', 'MeasureId'], axis = 1, inplace = True)\n",
    "behaviors.drop(['Category', 'UniqueID', 'Low_Confidence_Limit', 'High_Confidence_Limit', 'MeasureId'], axis = 1, inplace = True)\n",
    "\n",
    "\n",
    "\n",
    "outcomes = outcomes[outcomes.Data_Value_Type != 'Crude prevalence']\n",
    "behaviors = behaviors[behaviors.Data_Value_Type != 'Crude prevalence']\n",
    "display(outcomes.head())"
   ]
  },
  {
   "cell_type": "code",
   "execution_count": 2,
   "metadata": {
    "collapsed": false,
    "scrolled": true
   },
   "outputs": [
    {
     "data": {
      "text/plain": [
       "Year                                                     2014\n",
       "StateDesc                                             Alabama\n",
       "CityName                                           Birmingham\n",
       "Measure                Arthritis among adults aged >=18 Years\n",
       "Data_Value_Type                       Age-adjusted prevalence\n",
       "Data_Value                                               32.6\n",
       "GeoLocation                   (33.5275663773, -86.7988174678)\n",
       "Short_Question_Text                                 Arthritis\n",
       "Name: 26, dtype: object"
      ]
     },
     "metadata": {},
     "output_type": "display_data"
    }
   ],
   "source": [
    "\n",
    "#display(data[pd.notnull(data.CityName)].head())\n",
    "\n",
    "display(outcomes.iloc[0]) #['CityName'])\n"
   ]
  },
  {
   "cell_type": "code",
   "execution_count": 4,
   "metadata": {
    "collapsed": false
   },
   "outputs": [
    {
     "name": "stdout",
     "output_type": "stream",
     "text": [
      "['Arthritis' 'High Blood Pressure' 'Cancer (except skin)' 'Current Asthma'\n",
      " 'Coronary Heart Disease' 'COPD' 'Diabetes' 'High Cholesterol'\n",
      " 'Chronic Kidney Disease' 'Mental Health' 'Physical Health' 'Stroke'\n",
      " 'Teeth Loss']\n",
      "behavior types\n",
      "['Binge Drinking' 'Current Smoking' 'Physical Activity' 'Obesity' 'Sleep']\n"
     ]
    }
   ],
   "source": [
    "disease_types = outcomes.Short_Question_Text.unique()\n",
    "print disease_types\n",
    "import sys\n",
    "behavior_types = behaviors.Short_Question_Text.unique()\n",
    "print \"behavior types\"\n",
    "print behavior_types\n"
   ]
  },
  {
   "cell_type": "code",
   "execution_count": 12,
   "metadata": {
    "collapsed": false,
    "scrolled": true
   },
   "outputs": [
    {
     "data": {
      "text/plain": [
       "474"
      ]
     },
     "metadata": {},
     "output_type": "display_data"
    },
    {
     "data": {
      "text/plain": [
       "6.0999999999999996"
      ]
     },
     "metadata": {},
     "output_type": "display_data"
    },
    {
     "data": {
      "text/plain": [
       "{'Binge Drinking': 11.4,\n",
       " 'Current Smoking': 22.0,\n",
       " 'GeoLocation': '(33.5275663773, -86.7988174678)',\n",
       " 'Obesity': 39.0,\n",
       " 'Physical Activity': 31.699999999999999,\n",
       " 'Sleep': 46.899999999999999}"
      ]
     },
     "metadata": {},
     "output_type": "display_data"
    },
    {
     "data": {
      "text/plain": [
       "['GeoLocation',\n",
       " 'Current Smoking',\n",
       " 'Physical Activity',\n",
       " 'Binge Drinking',\n",
       " 'Sleep',\n",
       " 'Obesity']"
      ]
     },
     "metadata": {},
     "output_type": "display_data"
    }
   ],
   "source": [
    "#display(behave_data.head())\n",
    "\n",
    "\n",
    "outcomes_head =  outcomes.head(10)\n",
    "behaviors_head = behaviors.head(10)\n",
    "\n",
    "#display(head)\n",
    "outcome = outcomes_head.iloc[0]\n",
    "behavior = behaviors_head.iloc[0]\n",
    "\n",
    "outcomes_dict = {outcome.CityName:{outcome.Short_Question_Text: 0}}\n",
    "behaviors_dict = {behavior.CityName:{behavior.Short_Question_Text: 0}}\n",
    "\n",
    "for item in outcomes.itertuples():\n",
    "    if item.CityName in outcomes_dict:\n",
    "        outcomes_dict[item.CityName][item.Short_Question_Text] = item.Data_Value\n",
    "    else:\n",
    "        outcomes_dict[item.CityName] = {item.Short_Question_Text:[item.Data_Value]}\n",
    "    outcomes_dict[item.CityName]['GeoLocation'] = item.GeoLocation \n",
    "\n",
    "for item in behaviors.itertuples():\n",
    "    if item.CityName in behaviors_dict:\n",
    "        behaviors_dict[item.CityName][item.Short_Question_Text] = item.Data_Value\n",
    "    else:\n",
    "        behaviors_dict[item.CityName] = {item.Short_Question_Text:[item.Data_Value]}\n",
    "    behaviors_dict[item.CityName]['GeoLocation'] = item.GeoLocation\n",
    "    \n",
    "    \n",
    "    \n",
    "    \n",
    "'''\n",
    "test_dict = {lil_head.StateDesc:{lil_head.CityName:{lil_head.Short_Question_Text: 0}}}\n",
    "display(test_dict)      \n",
    "\n",
    "\n",
    "for item in head.itertuples():\n",
    "    #display(item.StateDesc, item.CityName, item.Short_Question_Text)\n",
    "    #display(item.Data_Value)\n",
    "    if item.StateDesc in test_dict:\n",
    "        if item.CityName in test_dict[item.StateDesc]:\n",
    "            test_dict[item.StateDesc][item.CityName][item.Short_Question_Text] = item.Data_Value\n",
    "            #print \"{}   {}   {}\".format(item.StateDesc, item.CityName, item.Short_Question_Text)\n",
    "        else:\n",
    "            test_dict[item.StateDesc][item.CityName] = {item.Short_Question_Text:item.Data_Value}\n",
    "            #print \"{}   {}\".format(item.StateDesc, item.CityName)\n",
    "    else:\n",
    "        test_dict[item.StateDesc] = {item.CityName:{item.Short_Question:item.Data_Value}}\n",
    "        print \"{}\".format(item.StateDesc)\n",
    "\n",
    "'''        \n",
    "display(len(outcomes_dict))\n",
    "display(outcomes_dict['Birmingham']['Cancer (except skin)'])\n",
    "\n",
    "display(behaviors_dict['Birmingham'])\n",
    "\n",
    "display(behaviors_dict['Birmingham'].keys())"
   ]
  },
  {
   "cell_type": "code",
   "execution_count": 13,
   "metadata": {
    "collapsed": false,
    "scrolled": true
   },
   "outputs": [
    {
     "data": {
      "text/html": [
       "<div>\n",
       "<table border=\"1\" class=\"dataframe\">\n",
       "  <thead>\n",
       "    <tr style=\"text-align: right;\">\n",
       "      <th></th>\n",
       "      <th>GeoLocation</th>\n",
       "      <th>Chronic Kidney Disease</th>\n",
       "      <th>COPD</th>\n",
       "      <th>Cancer (except skin)</th>\n",
       "      <th>Arthritis</th>\n",
       "      <th>Mental Health</th>\n",
       "      <th>Teeth Loss</th>\n",
       "      <th>Stroke</th>\n",
       "      <th>High Cholesterol</th>\n",
       "      <th>Current Asthma</th>\n",
       "      <th>Diabetes</th>\n",
       "      <th>Physical Health</th>\n",
       "      <th>High Blood Pressure</th>\n",
       "      <th>Coronary Heart Disease</th>\n",
       "    </tr>\n",
       "  </thead>\n",
       "  <tbody>\n",
       "    <tr>\n",
       "      <th>Abilene</th>\n",
       "      <td>(32.4546510898, -99.7383043723)</td>\n",
       "      <td>3.3</td>\n",
       "      <td>6.7</td>\n",
       "      <td>6.0</td>\n",
       "      <td>[22.4]</td>\n",
       "      <td>11.6</td>\n",
       "      <td>14.3</td>\n",
       "      <td>3.1</td>\n",
       "      <td>34.4</td>\n",
       "      <td>8.9</td>\n",
       "      <td>10.9</td>\n",
       "      <td>12.6</td>\n",
       "      <td>31.6</td>\n",
       "      <td>6.3</td>\n",
       "    </tr>\n",
       "    <tr>\n",
       "      <th>Akron</th>\n",
       "      <td>(41.0801444942, -81.5219213688)</td>\n",
       "      <td>3.3</td>\n",
       "      <td>9.4</td>\n",
       "      <td>5.7</td>\n",
       "      <td>[29.0]</td>\n",
       "      <td>15.3</td>\n",
       "      <td>23.6</td>\n",
       "      <td>3.9</td>\n",
       "      <td>33.0</td>\n",
       "      <td>11.6</td>\n",
       "      <td>13</td>\n",
       "      <td>15.5</td>\n",
       "      <td>36.2</td>\n",
       "      <td>7.5</td>\n",
       "    </tr>\n",
       "    <tr>\n",
       "      <th>Alameda</th>\n",
       "      <td>(37.7650849031, -122.266489842)</td>\n",
       "      <td>2.2</td>\n",
       "      <td>4.3</td>\n",
       "      <td>5.7</td>\n",
       "      <td>[18.5]</td>\n",
       "      <td>9.8</td>\n",
       "      <td>7.5</td>\n",
       "      <td>2.2</td>\n",
       "      <td>31.3</td>\n",
       "      <td>7.9</td>\n",
       "      <td>8.1</td>\n",
       "      <td>9.6</td>\n",
       "      <td>24.3</td>\n",
       "      <td>4.5</td>\n",
       "    </tr>\n",
       "    <tr>\n",
       "      <th>Albany</th>\n",
       "      <td>(42.6663969604, -73.7986826267)</td>\n",
       "      <td>2.2</td>\n",
       "      <td>7.1</td>\n",
       "      <td>5.8</td>\n",
       "      <td>25.7</td>\n",
       "      <td>13.2</td>\n",
       "      <td>16.5</td>\n",
       "      <td>3.3</td>\n",
       "      <td>33.8</td>\n",
       "      <td>10.9</td>\n",
       "      <td>10.9</td>\n",
       "      <td>13.1</td>\n",
       "      <td>33.4</td>\n",
       "      <td>6.0</td>\n",
       "    </tr>\n",
       "    <tr>\n",
       "      <th>Albuquerque</th>\n",
       "      <td>(35.1055025771, -106.647447696)</td>\n",
       "      <td>2.9</td>\n",
       "      <td>5.4</td>\n",
       "      <td>6.1</td>\n",
       "      <td>[22.4]</td>\n",
       "      <td>11.6</td>\n",
       "      <td>14</td>\n",
       "      <td>2.6</td>\n",
       "      <td>29.2</td>\n",
       "      <td>9.8</td>\n",
       "      <td>9.3</td>\n",
       "      <td>12.1</td>\n",
       "      <td>25.9</td>\n",
       "      <td>5.3</td>\n",
       "    </tr>\n",
       "  </tbody>\n",
       "</table>\n",
       "</div>"
      ],
      "text/plain": [
       "                                 GeoLocation  Chronic Kidney Disease COPD  \\\n",
       "Abilene      (32.4546510898, -99.7383043723)                     3.3  6.7   \n",
       "Akron        (41.0801444942, -81.5219213688)                     3.3  9.4   \n",
       "Alameda      (37.7650849031, -122.266489842)                     2.2  4.3   \n",
       "Albany       (42.6663969604, -73.7986826267)                     2.2  7.1   \n",
       "Albuquerque  (35.1055025771, -106.647447696)                     2.9  5.4   \n",
       "\n",
       "             Cancer (except skin) Arthritis  Mental Health Teeth Loss  Stroke  \\\n",
       "Abilene                       6.0    [22.4]           11.6       14.3     3.1   \n",
       "Akron                         5.7    [29.0]           15.3       23.6     3.9   \n",
       "Alameda                       5.7    [18.5]            9.8        7.5     2.2   \n",
       "Albany                        5.8      25.7           13.2       16.5     3.3   \n",
       "Albuquerque                   6.1    [22.4]           11.6         14     2.6   \n",
       "\n",
       "             High Cholesterol Current Asthma Diabetes  Physical Health  \\\n",
       "Abilene                  34.4            8.9     10.9             12.6   \n",
       "Akron                    33.0           11.6       13             15.5   \n",
       "Alameda                  31.3            7.9      8.1              9.6   \n",
       "Albany                   33.8           10.9     10.9             13.1   \n",
       "Albuquerque              29.2            9.8      9.3             12.1   \n",
       "\n",
       "            High Blood Pressure  Coronary Heart Disease  \n",
       "Abilene                    31.6                     6.3  \n",
       "Akron                      36.2                     7.5  \n",
       "Alameda                    24.3                     4.5  \n",
       "Albany                     33.4                     6.0  \n",
       "Albuquerque                25.9                     5.3  "
      ]
     },
     "metadata": {},
     "output_type": "display_data"
    }
   ],
   "source": [
    "outcomes_df = pd.DataFrame.from_dict(outcomes_dict, 'index')\n",
    "behaviors_df = pd.DataFrame.from_dict(behaviors_dict, 'index')\n",
    "#display(test_df.head(10))\n",
    "display(outcomes_df.head())\n",
    "\n",
    "#cols = list(header.columns)\n",
    "#display(test_df[['Physical Activity', 'Diabetes']].head())"
   ]
  },
  {
   "cell_type": "code",
   "execution_count": 15,
   "metadata": {
    "collapsed": true
   },
   "outputs": [],
   "source": [
    "outcomes.to_csv('500_City_Health_Outcomes_raw.csv')"
   ]
  },
  {
   "cell_type": "code",
   "execution_count": 16,
   "metadata": {
    "collapsed": true
   },
   "outputs": [],
   "source": [
    "behaviors.to_csv('500_City_Health_Behaviors_raw.csv')"
   ]
  },
  {
   "cell_type": "code",
   "execution_count": 17,
   "metadata": {
    "collapsed": true
   },
   "outputs": [],
   "source": [
    "outcomes_df.to_csv('500_City_Health_Outcomes.csv')"
   ]
  },
  {
   "cell_type": "code",
   "execution_count": 18,
   "metadata": {
    "collapsed": true
   },
   "outputs": [],
   "source": [
    "behaviors_df.to_csv('500_City_Health_Behaviors.csv')"
   ]
  },
  {
   "cell_type": "code",
   "execution_count": null,
   "metadata": {
    "collapsed": true
   },
   "outputs": [],
   "source": []
  }
 ],
 "metadata": {
  "kernelspec": {
   "display_name": "Python 2",
   "language": "python",
   "name": "python2"
  },
  "language_info": {
   "codemirror_mode": {
    "name": "ipython",
    "version": 2
   },
   "file_extension": ".py",
   "mimetype": "text/x-python",
   "name": "python",
   "nbconvert_exporter": "python",
   "pygments_lexer": "ipython2",
   "version": "2.7.12"
  }
 },
 "nbformat": 4,
 "nbformat_minor": 2
}
